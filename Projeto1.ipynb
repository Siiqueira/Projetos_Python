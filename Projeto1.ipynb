{
  "nbformat": 4,
  "nbformat_minor": 0,
  "metadata": {
    "colab": {
      "provenance": [],
      "toc_visible": true,
      "authorship_tag": "ABX9TyODkPHJFeIFyHB654SgLeYk",
      "include_colab_link": true
    },
    "kernelspec": {
      "name": "python3",
      "display_name": "Python 3"
    },
    "language_info": {
      "name": "python"
    }
  },
  "cells": [
    {
      "cell_type": "markdown",
      "metadata": {
        "id": "view-in-github",
        "colab_type": "text"
      },
      "source": [
        "<a href=\"https://colab.research.google.com/github/Siiqueira/Projetos_Python/blob/main/Projeto1.ipynb\" target=\"_parent\"><img src=\"https://colab.research.google.com/assets/colab-badge.svg\" alt=\"Open In Colab\"/></a>"
      ]
    },
    {
      "cell_type": "markdown",
      "source": [
        "# Projeto 1"
      ],
      "metadata": {
        "id": "GI86alCJW683"
      }
    },
    {
      "cell_type": "markdown",
      "source": [
        "**Projeto para calcular a media de altura (cm) dos primeiros 41 presidentes dos EUA**"
      ],
      "metadata": {
        "id": "MkbmdNIDXA0W"
      }
    },
    {
      "cell_type": "markdown",
      "source": [
        "Importando as Bibliotecas"
      ],
      "metadata": {
        "id": "8R3cLfIfYQtp"
      }
    },
    {
      "cell_type": "code",
      "execution_count": null,
      "metadata": {
        "id": "n6Ksm_pfSdgd"
      },
      "outputs": [],
      "source": [
        "import pandas as pd\n",
        "import numpy as np"
      ]
    },
    {
      "cell_type": "code",
      "source": [
        "import matplotlib.pyplot as plt\n",
        "import seaborn as sns\n",
        "sns.set()"
      ],
      "metadata": {
        "id": "X2wfau42VscP"
      },
      "execution_count": null,
      "outputs": []
    },
    {
      "cell_type": "markdown",
      "source": [
        "Impotando o dataset em formato .csv usando o pandas para ler e extrair as informações"
      ],
      "metadata": {
        "id": "9_MTfxikYVIw"
      }
    },
    {
      "cell_type": "code",
      "source": [
        "df = pd.read_csv('/content/president_heights.csv')\n"
      ],
      "metadata": {
        "id": "rd1eLQS1StfU"
      },
      "execution_count": null,
      "outputs": []
    },
    {
      "cell_type": "markdown",
      "source": [
        "Verificando os dados"
      ],
      "metadata": {
        "id": "Uw7F-k0nYard"
      }
    },
    {
      "cell_type": "code",
      "source": [
        "print(df.head())"
      ],
      "metadata": {
        "colab": {
          "base_uri": "https://localhost:8080/"
        },
        "id": "KJiT5g4ETDVn",
        "outputId": "02b75bac-6c25-4bd7-f820-4715153702a9"
      },
      "execution_count": null,
      "outputs": [
        {
          "output_type": "stream",
          "name": "stdout",
          "text": [
            "   order               name  height(cm)\n",
            "0      1  George Washington         189\n",
            "1      2         John Adams         170\n",
            "2      3   Thomas Jefferson         189\n",
            "3      4      James Madison         163\n",
            "4      5       James Monroe         183\n"
          ]
        }
      ]
    },
    {
      "cell_type": "markdown",
      "source": [
        "Alterando a coluna em array, para tratar os dados e aplicar estatisticas de resumos"
      ],
      "metadata": {
        "id": "u6OEE7KQY08t"
      }
    },
    {
      "cell_type": "code",
      "source": [
        "height = np.array(df[\"height(cm)\"])\n",
        "print(height)"
      ],
      "metadata": {
        "colab": {
          "base_uri": "https://localhost:8080/"
        },
        "id": "ZjE2vGDBTKX2",
        "outputId": "9d4dbe17-3d72-4f83-e071-2fdb36bed008"
      },
      "execution_count": null,
      "outputs": [
        {
          "output_type": "stream",
          "name": "stdout",
          "text": [
            "[189 170 189 163 183 171 185 168 173 183 173 173 175 178 183 193 178 173\n",
            " 174 183 183 168 170 178 182 180 183 178 182 188 175 179 183 193 182 183\n",
            " 177 185 188 188 182 185]\n"
          ]
        }
      ]
    },
    {
      "cell_type": "markdown",
      "source": [
        "Veriedade de estatisticas Media das alturas, Desvio padrão da altura, altura minima e altura maxima."
      ],
      "metadata": {
        "id": "ZtRvMWB7ZHfk"
      }
    },
    {
      "cell_type": "code",
      "source": [
        "print(\"Mean of heights =\",height.mean())\n",
        "print(\"Standard Deviation of height=\", height.std())\n",
        "print(\"Minimum heigh t=\", height.min())\n",
        "print(\"Maximum height =\", height.max())"
      ],
      "metadata": {
        "colab": {
          "base_uri": "https://localhost:8080/"
        },
        "id": "fNz13pbMTjBm",
        "outputId": "08f33ac7-5669-4636-943a-53a05b3a2be0"
      },
      "execution_count": null,
      "outputs": [
        {
          "output_type": "stream",
          "name": "stdout",
          "text": [
            "Mean of heights = 179.73809523809524\n",
            "Standard Deviation of height= 6.931843442745892\n",
            "Minimum heigh t= 163\n",
            "Maximum height = 193\n"
          ]
        }
      ]
    },
    {
      "cell_type": "markdown",
      "source": [
        "Manipulando os dados e criando suas variaveis de quartis 25%, Mediana, 75%"
      ],
      "metadata": {
        "id": "ec6KfJcdZVRd"
      }
    },
    {
      "cell_type": "code",
      "source": [
        "print(\"25th percentile =\", np.percentile(height, 25))\n",
        "print(\"Median =\", np.median(height))\n",
        "print(\"75th percentile =\", np.percentile(height, 75))"
      ],
      "metadata": {
        "colab": {
          "base_uri": "https://localhost:8080/"
        },
        "id": "xD_HyJVsU5n2",
        "outputId": "5782ed07-53a2-4872-a3b6-0d3d5f2561bb"
      },
      "execution_count": null,
      "outputs": [
        {
          "output_type": "stream",
          "name": "stdout",
          "text": [
            "25th percentile = 174.25\n",
            "Median = 182.0\n",
            "75th percentile = 183.0\n"
          ]
        }
      ]
    },
    {
      "cell_type": "markdown",
      "source": [
        "Criando um grafico para visualizar o que os numeros estão dizendo"
      ],
      "metadata": {
        "id": "K3Sub0g2aARh"
      }
    },
    {
      "cell_type": "markdown",
      "source": [
        "Usando o Matplotlib para criar o grafico."
      ],
      "metadata": {
        "id": "d5AaFt8IaTjB"
      }
    },
    {
      "cell_type": "code",
      "source": [
        "plt.hist(height)\n",
        "plt.title(\"Height Distribution of Presidents of USA\")\n",
        "plt.xlabel(\"height(cm)\")\n",
        "plt.ylabel(\"Number\")\n",
        "plt.show()"
      ],
      "metadata": {
        "colab": {
          "base_uri": "https://localhost:8080/",
          "height": 480
        },
        "id": "RaI-WcjNV_Ym",
        "outputId": "352f2e9f-68a2-46e4-bca6-235cbd9ca4dc"
      },
      "execution_count": null,
      "outputs": [
        {
          "output_type": "display_data",
          "data": {
            "text/plain": [
              "<Figure size 640x480 with 1 Axes>"
            ],
            "image/png": "[encoded data removed]"
          },
          "metadata": {}
        }
      ]
    },
    {
      "cell_type": "markdown",
      "source": [
        "Nesse micro projeto, mostra que a media e a mediana dos Presidentes dos EUA é 1.82 centimetro.\n",
        "A informação em si nesse contexto não é muito relevante, pois ninguem vota em um presidente por conta de sua altura.\n",
        "Mas é interessante saber fazer esse tipo de analise para usar em outros tipos de dados e projetos."
      ],
      "metadata": {
        "id": "lZTSWBSjae7m"
      }
    },
    {
      "cell_type": "code",
      "source": [],
      "metadata": {
        "id": "TcvBamz_bAZs"
      },
      "execution_count": null,
      "outputs": []
    },
    {
      "cell_type": "code",
      "source": [
        "from google.colab import drive\n",
        "drive.mount('/content/drive')"
      ],
      "metadata": {
        "id": "G3mPK6u7bRR7"
      },
      "execution_count": null,
      "outputs": []
    }
  ]
}